{
 "cells": [
  {
   "cell_type": "markdown",
   "metadata": {},
   "source": [
    " pip install --upgrade setuptools\n",
    " pip install numpy Matplotlib\n",
    " pip install opencv-python"
   ]
  },
  {
   "cell_type": "markdown",
   "metadata": {},
   "source": [
    "将minicup 传到手机上，并赋权限777\n",
    "(保存在bin文件夹了)\n",
    "adb push minicap /data/local/tmp\n",
    "adb push minicap.so /data/local/tmp\n",
    "adb shell chmod 777 /data/local/tmp/minicap\n",
    "adb shell chmod 777 /data/local/tmp/minicap.so\n",
    "测试是否可运行：adb shell LD_LIBRARY_PATH=/data/local/tmp /data/local/tmp/minicap -P 1080x2160@1080x2160/0 -t"
   ]
  },
  {
   "cell_type": "markdown",
   "metadata": {},
   "source": [
    "启动服务，已嵌入自动化\n",
    "adb shell LD_LIBRARY_PATH=/data/local/tmp /data/local/tmp/minicap -P 1080x2400@1080x2400/0 \n",
    "端口映射，手动，还未嵌入\n",
    "\n",
    "\n",
    "adb forward tcp:1717 localabstract:minicap"
   ]
  },
  {
   "cell_type": "code",
   "execution_count": 14,
   "metadata": {},
   "outputs": [
    {
     "name": "stdout",
     "output_type": "stream",
     "text": [
      "[Execution] Initialization failed: [WinError 10061] 由于目标计算机积极拒绝，无法连接。\n",
      "[execution] Exiting...\n",
      "[execution] minicap终止\n",
      "程序执行时间为: 0.30251455307006836 秒\n"
     ]
    }
   ],
   "source": [
    "from libs.execution import Execution\n",
    "from time import sleep\n",
    "import numpy as np\n",
    "import time\n",
    "process = Execution()\n",
    "\n",
    "start_time = time.time()\n",
    "\n",
    "\n",
    "# process.click_point(*process.find_templete(\"assests/xiaoyuan/1.png\",0.8,print_info=True))\n",
    "# process.wait_color((57, 117),2,2,'#f9b842',print_info=True)\n",
    "# process.click_point(*process.find_templete(\"assests/xiaoyuan/2.png\",0.8,print_info=True))\n",
    "\n",
    "# > \n",
    "# process.swipe((555, 1447) , (687, 1525), 40)\n",
    "# process.swipe( (687, 1525) ,(555, 1725) , 40)\n",
    "\n",
    "# <\n",
    "# process.swipe((687, 1447) , (555, 1525), 40)\n",
    "# process.swipe( (555, 1525) ,(687, 1725) , 40)\n",
    "\n",
    "\n",
    "\n",
    "end_time = time.time()\n",
    "execution_time = end_time - start_time\n",
    "print(f\"程序执行时间为: {execution_time} 秒\")\n"
   ]
  }
 ],
 "metadata": {
  "kernelspec": {
   "display_name": "Python 3",
   "language": "python",
   "name": "python3"
  },
  "language_info": {
   "codemirror_mode": {
    "name": "ipython",
    "version": 3
   },
   "file_extension": ".py",
   "mimetype": "text/x-python",
   "name": "python",
   "nbconvert_exporter": "python",
   "pygments_lexer": "ipython3",
   "version": "3.8.20"
  }
 },
 "nbformat": 4,
 "nbformat_minor": 2
}
