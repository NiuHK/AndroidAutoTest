{
 "cells": [
  {
   "cell_type": "code",
   "execution_count": null,
   "metadata": {},
   "outputs": [
    {
     "name": "stdout",
     "output_type": "stream",
     "text": [
      "OrderedDict([('version', 1), ('length', 24), ('pid', 27296), ('realWidth', 1080), ('realHeight', 2400), ('virtualWidth', 1080), ('virtualHeight', 2400), ('orientation', 0), ('quirks', 2)])\n",
      "---------------------[Execution] service initialized----------------------\n",
      "                  若仍然无minicap推流，尝试撤销usb调试授权重新打开\n",
      "服务器已启动，等待连接...\n"
     ]
    }
   ],
   "source": [
    "import threading\n",
    "import subprocess\n",
    "import socket\n",
    "\n",
    "\n",
    "from libs.execution import Execution\n",
    "from time import sleep\n",
    "import numpy as np\n",
    "import json\n",
    "process = Execution()\n",
    "info_=False\n",
    "\n",
    "def start_server():\n",
    "    server_socket = socket.socket(socket.AF_INET, socket.SOCK_STREAM)\n",
    "    server_socket.bind(('localhost', 7899))\n",
    "    server_socket.listen(1)\n",
    "    print(\"服务器已启动，等待连接...\")\n",
    "\n",
    "    conn, addr = server_socket.accept()\n",
    "    print(f\"连接地址: {addr}\")\n",
    "    process.click_point(*process.find_templete(\"assests/xiaoyuan/1.png\",0.8,print_info=info_))\n",
    "    print(\"进入答题界面\")\n",
    "    process.wait_color((562, 1450),2,2,'#fce169')\n",
    "    sleep(1)\n",
    "    process.click_point(*process.find_templete(\"assests/xiaoyuan/2.png\",0.8,print_info=info_))\n",
    "    while True:\n",
    "        data = conn.recv(1024)\n",
    "        if not data:\n",
    "            break\n",
    "        print(f\"收到数据: {data.decode()}\")\n",
    "        conn.sendall(data)  # 回显收到的数据\n",
    "        op(json.loads(data.decode()))\n",
    "    \n",
    "\n",
    "    conn.close()\n",
    "    \n",
    "# 定义函数来运行 mitmdump\n",
    "def run_b_script():\n",
    "    subprocess.run([\"mitmdump\", \"-s\", \"b.py\",\"--quiet\"])\n",
    "\n",
    "\n",
    "\n",
    "def op(list):\n",
    "    process.wait_color((580, 2317),2,2,'#563bca',print_info=False)\n",
    "    for i in list:\n",
    "        speed=10\n",
    "    \n",
    "        if i == \"<\":\n",
    "            process.swipe((687, 1447) , (555, 1525), speed)\n",
    "            process.swipe( (555, 1525) ,(687, 1725) , speed)\n",
    "        elif i == \">\":\n",
    "            process.swipe((555, 1447) , (687, 1525), speed)\n",
    "            process.swipe( (687, 1525) ,(555, 1725) , speed)\n",
    "        else:\n",
    "            print('error',i)\n",
    "        sleep(0.2)\n",
    "        \n",
    "        \n",
    "\n",
    "\n",
    "\n",
    "# 启动 b.py 的线程\n",
    "thread = threading.Thread(target=run_b_script)\n",
    "thread.daemon = True\n",
    "thread.start()\n",
    "start_server()\n",
    "thread.join()\n",
    "\n",
    "\n",
    "# pip install Werkzeug==2.2.2"
   ]
  }
 ],
 "metadata": {
  "kernelspec": {
   "display_name": "Python 3",
   "language": "python",
   "name": "python3"
  },
  "language_info": {
   "codemirror_mode": {
    "name": "ipython",
    "version": 3
   },
   "file_extension": ".py",
   "mimetype": "text/x-python",
   "name": "python",
   "nbconvert_exporter": "python",
   "pygments_lexer": "ipython3",
   "version": "3.8.20"
  }
 },
 "nbformat": 4,
 "nbformat_minor": 2
}
